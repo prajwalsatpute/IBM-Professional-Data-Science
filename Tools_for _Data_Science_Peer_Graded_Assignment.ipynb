{
 "cells": [
  {
   "cell_type": "markdown",
   "metadata": {},
   "source": [
    "# My Jupyter Notebook on IBM Watson Studio"
   ]
  },
  {
   "cell_type": "markdown",
   "metadata": {},
   "source": [
    "**Prajwal Satpute**\n",
    "<br> Student"
   ]
  },
  {
   "cell_type": "markdown",
   "metadata": {},
   "source": [
    "*I am interested in data science because I have always wanted to know that how the huge amount of Data is handled and used for betterment of business and mankind in our world ?*"
   ]
  },
  {
   "cell_type": "markdown",
   "metadata": {},
   "source": [
    "### The Below code will print the result '2*8' i.e. 16."
   ]
  },
  {
   "cell_type": "code",
   "execution_count": 1,
   "metadata": {},
   "outputs": [
    {
     "data": {
      "text/plain": [
       "16"
      ]
     },
     "execution_count": 1,
     "metadata": {},
     "output_type": "execute_result"
    }
   ],
   "source": [
    "2*8"
   ]
  },
  {
   "cell_type": "markdown",
   "metadata": {},
   "source": [
    "__[IBM Watson Studio](https://www.ibm.com/cloud/watson-studio)__\n",
    "***\n",
    "<img src=\"data:image/png;base64,iVBORw0KGgoAAAANSUhEUgAAAHwAAAB8CAMAAACcwCSMAAAAY1BMVEX///8AAADt7e3x8fFERERVVVWurq5paWllZWW1tbXq6ur29vZ9fX35+fmysrJbW1vi4uLS0tJOTk7Dw8OoqKgzMzM/Pz+goKB3d3dgYGAcHByRkZEsLCw5OTnLy8vZ2dmIiIiom+OJAAAB7UlEQVRoge2XXXeDIAyGmXRdhaporevWD/v/f+VIEIprz9kUt968z4UmAU7aBGIQAgAAAAAAAAAAAAAAAAAAf8mu2tw4FLp6izkca55lgmWzLYaV7cbbPnYzna9fIj61fPnOmdzXkcH9HKEj03qm80LGCCG/k2maFhn8P8/uTVPRKguoTIhIDeZCFLHuFspogp7pfBT204OwW46ij1WOuzwtEPZ8vwp0ldan1T1n0cfakdbV0cRzPtP506lzIiQuK61WGhIliXmpSDYsD0My90qd6HzLiTNevbDakjjkuic5DynexMo20fllTUivqtZqLTuULQ/xUTJOJmxtCvIl0flTeW9eLcqr/eo1pqlcTC48qyLLleWKR98TnT/M+Y2hcrs0X/m5v4mpOZdR4bIU4yrn94KrcsVQC6nwjYb/xXkY1WIR51PCXoZK26pFwj5hwzU7cWicPcsW2XBPZUqRMUKX9G6VkIsUmSnl1Va3hgUlzCI5n/BhIXNvhdLuQs3LUj8sT+N3zYTpukGkc3ftOjoB6jwY93ObialtVGnX7GxptS8TjHPbqF82kN7sekU1vFIbyKmtM5867bwlt84/XhpO40sDRzg/0DM97D9dl1wNMX5G5Qo9H3z1MTYCAAAAAAAAAAAAAAAAAOCv+AKhHh9h/YT3AgAAAABJRU5ErkJggg==\" alt=\"IBM Logo\" title=\"IBM\" />"
   ]
  }
 ],
 "metadata": {
  "kernelspec": {
   "display_name": "Python",
   "language": "python",
   "name": "conda-env-python-py"
  },
  "language_info": {
   "codemirror_mode": {
    "name": "ipython",
    "version": 3
   },
   "file_extension": ".py",
   "mimetype": "text/x-python",
   "name": "python",
   "nbconvert_exporter": "python",
   "pygments_lexer": "ipython3",
   "version": "3.7.12"
  }
 },
 "nbformat": 4,
 "nbformat_minor": 4
}
